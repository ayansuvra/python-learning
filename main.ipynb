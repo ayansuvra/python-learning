{
 "cells": [
  {
   "cell_type": "code",
   "execution_count": 1,
   "id": "47b724e6-dcd4-46e4-a953-7bc2d3b9b28f",
   "metadata": {},
   "outputs": [
    {
     "name": "stdout",
     "output_type": "stream",
     "text": [
      "hello world\n"
     ]
    }
   ],
   "source": [
    "print(\"hello world\")"
   ]
  },
  {
   "cell_type": "code",
   "execution_count": 2,
   "id": "412cab55-85cf-42bb-a83f-6e993ace3e6e",
   "metadata": {},
   "outputs": [],
   "source": [
    "# hello this is a comment, cannot be read by python interpeter"
   ]
  },
  {
   "cell_type": "code",
   "execution_count": 3,
   "id": "9a45e35b-7590-41dc-a26d-7995e1a6e223",
   "metadata": {},
   "outputs": [],
   "source": [
    "Name = \"Ayan Suvra Bosu\"\n",
    "Age = 18\n",
    "Name1 = \"sourish sanyal\"\n",
    "Age1 = 69\n",
    "#camel case\n",
    "userName = \"Kutta\"\n",
    "#pascal case\n",
    "UserName = \"Gadha\"\n",
    "#snake case\n",
    "user_name = \"Ghora\""
   ]
  },
  {
   "cell_type": "code",
   "execution_count": 4,
   "id": "7eabd081-3783-46a1-87e0-e36621553143",
   "metadata": {},
   "outputs": [
    {
     "name": "stdout",
     "output_type": "stream",
     "text": [
      "<class 'str'> <class 'int'>\n"
     ]
    }
   ],
   "source": [
    "print(type(Name), type(Age))"
   ]
  },
  {
   "cell_type": "code",
   "execution_count": 5,
   "id": "e6398fcc-3610-4ce3-969c-db26093450ab",
   "metadata": {},
   "outputs": [
    {
     "name": "stdout",
     "output_type": "stream",
     "text": [
      "<class 'float'>\n"
     ]
    }
   ],
   "source": [
    "a = 3.14\n",
    "print(type(a))"
   ]
  },
  {
   "cell_type": "code",
   "execution_count": 6,
   "id": "f546c719-f431-48d9-92d0-649260d8c1ff",
   "metadata": {},
   "outputs": [
    {
     "name": "stdout",
     "output_type": "stream",
     "text": [
      "<class 'float'>\n"
     ]
    }
   ],
   "source": [
    "b = 22/7\n",
    "print(type(b))"
   ]
  },
  {
   "cell_type": "code",
   "execution_count": 7,
   "id": "84174bc6-8390-4e1d-a5b5-29673835a461",
   "metadata": {},
   "outputs": [
    {
     "ename": "ZeroDivisionError",
     "evalue": "division by zero",
     "output_type": "error",
     "traceback": [
      "\u001b[31m---------------------------------------------------------------------------\u001b[39m",
      "\u001b[31mZeroDivisionError\u001b[39m                         Traceback (most recent call last)",
      "\u001b[36mCell\u001b[39m\u001b[36m \u001b[39m\u001b[32mIn[7]\u001b[39m\u001b[32m, line 1\u001b[39m\n\u001b[32m----> \u001b[39m\u001b[32m1\u001b[39m c = \u001b[32;43m44\u001b[39;49m\u001b[43m/\u001b[49m\u001b[32;43m0\u001b[39;49m\n\u001b[32m      2\u001b[39m \u001b[38;5;28mprint\u001b[39m(\u001b[38;5;28mtype\u001b[39m(c))\n",
      "\u001b[31mZeroDivisionError\u001b[39m: division by zero"
     ]
    }
   ],
   "source": [
    "c = 44/0\n",
    "print(type(c))"
   ]
  },
  {
   "cell_type": "code",
   "execution_count": 8,
   "id": "c019ff18-0409-42e7-8d6a-11a4421faa88",
   "metadata": {},
   "outputs": [
    {
     "name": "stdout",
     "output_type": "stream",
     "text": [
      "<class 'complex'>\n"
     ]
    }
   ],
   "source": [
    "com = 3+4j\n",
    "print(type(com))"
   ]
  },
  {
   "cell_type": "code",
   "execution_count": 9,
   "id": "f10640af-a08c-477e-a046-146970e6556b",
   "metadata": {},
   "outputs": [
    {
     "name": "stdout",
     "output_type": "stream",
     "text": [
      "<class 'str'> <class 'int'>\n"
     ]
    }
   ],
   "source": [
    "abc = \"18\"\n",
    "bc = 18\n",
    "print(type(abc), type(bc))"
   ]
  },
  {
   "cell_type": "code",
   "execution_count": 10,
   "id": "98df9d19-c962-41f0-8d9f-b3671bb4afac",
   "metadata": {},
   "outputs": [
    {
     "name": "stdout",
     "output_type": "stream",
     "text": [
      "<class 'bool'>\n"
     ]
    }
   ],
   "source": [
    "t = True\n",
    "print(type(t))"
   ]
  },
  {
   "cell_type": "code",
   "execution_count": 11,
   "id": "c58a3eaf-638a-4b9b-9fa8-fad186d38636",
   "metadata": {},
   "outputs": [
    {
     "name": "stdout",
     "output_type": "stream",
     "text": [
      "65\n"
     ]
    }
   ],
   "source": [
    "x = \"A\"\n",
    "print(ord(x))"
   ]
  },
  {
   "cell_type": "code",
   "execution_count": 13,
   "id": "87a9086f-7570-4d54-9d8c-ad6ea8bbddda",
   "metadata": {},
   "outputs": [
    {
     "name": "stdout",
     "output_type": "stream",
     "text": [
      "A\n"
     ]
    }
   ],
   "source": [
    "print(chr(65))"
   ]
  },
  {
   "cell_type": "code",
   "execution_count": 14,
   "id": "691b414e-6a53-40a5-a654-ec991fcaa83f",
   "metadata": {},
   "outputs": [
    {
     "name": "stdout",
     "output_type": "stream",
     "text": [
      "1\n"
     ]
    }
   ],
   "source": [
    "print(abc[0])"
   ]
  },
  {
   "cell_type": "code",
   "execution_count": 15,
   "id": "9444e241-179b-4eb4-aa41-001668feefbd",
   "metadata": {},
   "outputs": [
    {
     "name": "stdout",
     "output_type": "stream",
     "text": [
      "8\n"
     ]
    }
   ],
   "source": [
    "print(abc[-1])"
   ]
  },
  {
   "cell_type": "code",
   "execution_count": 16,
   "id": "2158420b-4916-4ecc-8289-3b603a91bae3",
   "metadata": {},
   "outputs": [
    {
     "name": "stdout",
     "output_type": "stream",
     "text": [
      "uvra \n"
     ]
    }
   ],
   "source": [
    "print(Name[6:11:1])"
   ]
  },
  {
   "cell_type": "code",
   "execution_count": 17,
   "id": "b5d52f21-460d-4275-a875-06a9fd3fddb6",
   "metadata": {},
   "outputs": [
    {
     "name": "stdout",
     "output_type": "stream",
     "text": [
      "Suvra \n"
     ]
    }
   ],
   "source": [
    "print(Name[5:11:1])"
   ]
  },
  {
   "cell_type": "code",
   "execution_count": 18,
   "id": "b6cec101-846e-4b89-b6ea-30bf4c4e6f54",
   "metadata": {},
   "outputs": [
    {
     "ename": "ValueError",
     "evalue": "invalid literal for int() with base 10: 'Ayan Suvra Bosu'",
     "output_type": "error",
     "traceback": [
      "\u001b[31m---------------------------------------------------------------------------\u001b[39m",
      "\u001b[31mValueError\u001b[39m                                Traceback (most recent call last)",
      "\u001b[36mCell\u001b[39m\u001b[36m \u001b[39m\u001b[32mIn[18]\u001b[39m\u001b[32m, line 1\u001b[39m\n\u001b[32m----> \u001b[39m\u001b[32m1\u001b[39m \u001b[38;5;28mprint\u001b[39m(\u001b[38;5;28;43mint\u001b[39;49m\u001b[43m(\u001b[49m\u001b[43mName\u001b[49m\u001b[43m)\u001b[49m)\n",
      "\u001b[31mValueError\u001b[39m: invalid literal for int() with base 10: 'Ayan Suvra Bosu'"
     ]
    }
   ],
   "source": [
    "print(int(Name))"
   ]
  },
  {
   "cell_type": "code",
   "execution_count": 19,
   "id": "31ec6c2c-9a4f-4411-97b1-034f25ed29ac",
   "metadata": {},
   "outputs": [
    {
     "ename": "ValueError",
     "evalue": "invalid literal for int() with base 10: 'A'",
     "output_type": "error",
     "traceback": [
      "\u001b[31m---------------------------------------------------------------------------\u001b[39m",
      "\u001b[31mValueError\u001b[39m                                Traceback (most recent call last)",
      "\u001b[36mCell\u001b[39m\u001b[36m \u001b[39m\u001b[32mIn[19]\u001b[39m\u001b[32m, line 1\u001b[39m\n\u001b[32m----> \u001b[39m\u001b[32m1\u001b[39m \u001b[38;5;28mprint\u001b[39m(\u001b[38;5;28;43mint\u001b[39;49m\u001b[43m(\u001b[49m\u001b[43mName\u001b[49m\u001b[43m[\u001b[49m\u001b[32;43m0\u001b[39;49m\u001b[43m]\u001b[49m\u001b[43m)\u001b[49m)\n",
      "\u001b[31mValueError\u001b[39m: invalid literal for int() with base 10: 'A'"
     ]
    }
   ],
   "source": [
    "print(int(Name[0]))"
   ]
  },
  {
   "cell_type": "code",
   "execution_count": 23,
   "id": "6dc4e33d-7dbb-41df-878d-b49a4ea3fcf5",
   "metadata": {},
   "outputs": [
    {
     "name": "stdout",
     "output_type": "stream",
     "text": [
      "<class 'int'>\n"
     ]
    }
   ],
   "source": [
    "y = \"12\"\n",
    "y = int(y)\n",
    "print(type(y))"
   ]
  },
  {
   "cell_type": "code",
   "execution_count": 24,
   "id": "9fb8d0c8-7137-48cd-b479-4c2f9bf3d745",
   "metadata": {},
   "outputs": [
    {
     "name": "stdout",
     "output_type": "stream",
     "text": [
      "<class 'str'>\n"
     ]
    }
   ],
   "source": [
    "y = str(y)\n",
    "print(type(y))"
   ]
  },
  {
   "cell_type": "code",
   "execution_count": 25,
   "id": "eaf0f93f-d9de-4651-877e-c62e1f20e7bd",
   "metadata": {},
   "outputs": [
    {
     "name": "stdout",
     "output_type": "stream",
     "text": [
      "12\n"
     ]
    }
   ],
   "source": [
    "print(y)"
   ]
  },
  {
   "cell_type": "code",
   "execution_count": 26,
   "id": "3ed2e78e-b50b-420e-82f5-be70ae2ca6ce",
   "metadata": {},
   "outputs": [
    {
     "name": "stdout",
     "output_type": "stream",
     "text": [
      "True\n"
     ]
    }
   ],
   "source": [
    "y = bool(343)\n",
    "print(y)"
   ]
  },
  {
   "cell_type": "code",
   "execution_count": 27,
   "id": "17aede1c-171a-411f-87b9-a22685c475b1",
   "metadata": {},
   "outputs": [
    {
     "name": "stdout",
     "output_type": "stream",
     "text": [
      "False\n"
     ]
    }
   ],
   "source": [
    "y = bool(0)\n",
    "print(y)"
   ]
  },
  {
   "cell_type": "code",
   "execution_count": 28,
   "id": "030ff68e-b9a3-4c58-9c75-86e1b14b0841",
   "metadata": {},
   "outputs": [
    {
     "name": "stdout",
     "output_type": "stream",
     "text": [
      "True\n"
     ]
    }
   ],
   "source": [
    "let = True\n",
    "print(let)"
   ]
  },
  {
   "cell_type": "code",
   "execution_count": 29,
   "id": "ef202cb4-900b-46c9-aac5-3d70d6346545",
   "metadata": {},
   "outputs": [
    {
     "name": "stdout",
     "output_type": "stream",
     "text": [
      "1\n"
     ]
    }
   ],
   "source": [
    "print(int(let))"
   ]
  },
  {
   "cell_type": "code",
   "execution_count": 30,
   "id": "5a9011e0-45aa-4093-881c-e4b73313c0f2",
   "metadata": {},
   "outputs": [
    {
     "name": "stdout",
     "output_type": "stream",
     "text": [
      "Hello, my name is Ayan Suvra Bosu , how can i assist you today\n"
     ]
    }
   ],
   "source": [
    "print(\"Hello, my name is\", Name,\", how can i assist you today\")"
   ]
  },
  {
   "cell_type": "code",
   "execution_count": 32,
   "id": "9ae322c3-1d76-449c-9bf4-7375884b6d04",
   "metadata": {},
   "outputs": [
    {
     "name": "stdout",
     "output_type": "stream",
     "text": [
      "hello my name is Ayan Suvra Bosu, how can i assist you today.\n"
     ]
    }
   ],
   "source": [
    "print(f\"hello my name is {Name}, how can i assist you today.\")"
   ]
  },
  {
   "cell_type": "code",
   "execution_count": 34,
   "id": "001e78b7-6890-4c9c-a511-2a463fc518e2",
   "metadata": {},
   "outputs": [
    {
     "name": "stdin",
     "output_type": "stream",
     "text": [
      "your name :  Ayan\n"
     ]
    },
    {
     "name": "stdout",
     "output_type": "stream",
     "text": [
      "your name is Ayan\n"
     ]
    }
   ],
   "source": [
    "name = input(\"your name : \")\n",
    "print(f\"your name is {name}\")"
   ]
  },
  {
   "cell_type": "code",
   "execution_count": 37,
   "id": "f750adb6-66c2-4ef6-a96d-6ce066281d38",
   "metadata": {},
   "outputs": [
    {
     "name": "stdin",
     "output_type": "stream",
     "text": [
      "Enter your age :  15\n"
     ]
    },
    {
     "name": "stdout",
     "output_type": "stream",
     "text": [
      "your age is 15\n"
     ]
    }
   ],
   "source": [
    "age = int(input(\"Enter your age : \"))\n",
    "print(f\"your age is {age}\")"
   ]
  },
  {
   "cell_type": "code",
   "execution_count": 38,
   "id": "98f961d6-469e-4530-9836-0efc413a07f3",
   "metadata": {},
   "outputs": [
    {
     "name": "stdout",
     "output_type": "stream",
     "text": [
      "<class 'float'> <class 'int'>\n"
     ]
    }
   ],
   "source": [
    "print(type(4/5), type(4//5))"
   ]
  },
  {
   "cell_type": "code",
   "execution_count": 39,
   "id": "4c2ca34a-0550-4f4e-a00c-bb7a648d31c9",
   "metadata": {},
   "outputs": [
    {
     "name": "stdout",
     "output_type": "stream",
     "text": [
      "125\n"
     ]
    }
   ],
   "source": [
    "print(5**3)"
   ]
  },
  {
   "cell_type": "code",
   "execution_count": 40,
   "id": "1a0daa4a-7bb7-4913-b98a-d4ffcaacab79",
   "metadata": {},
   "outputs": [
    {
     "name": "stdout",
     "output_type": "stream",
     "text": [
      "125\n"
     ]
    }
   ],
   "source": [
    "a = 5\n",
    "a **= 3\n",
    "print(a)"
   ]
  },
  {
   "cell_type": "code",
   "execution_count": 42,
   "id": "089aae71-71de-442c-838e-8ed3233cb84e",
   "metadata": {},
   "outputs": [
    {
     "name": "stdout",
     "output_type": "stream",
     "text": [
      "True\n"
     ]
    }
   ],
   "source": [
    "print(\"ava\" == \"ava\")"
   ]
  },
  {
   "cell_type": "code",
   "execution_count": 43,
   "id": "31a745a6-0337-41e9-b6a8-b7500bf62a24",
   "metadata": {},
   "outputs": [
    {
     "name": "stdout",
     "output_type": "stream",
     "text": [
      "False\n"
     ]
    }
   ],
   "source": [
    "print(\"aav\" == \"ava\")"
   ]
  },
  {
   "cell_type": "code",
   "execution_count": 44,
   "id": "d01f6607-f628-46e4-a35a-5e65456fcaf9",
   "metadata": {},
   "outputs": [
    {
     "name": "stdout",
     "output_type": "stream",
     "text": [
      "False\n"
     ]
    }
   ],
   "source": [
    "print(\"a\" == 65)"
   ]
  },
  {
   "cell_type": "code",
   "execution_count": 45,
   "id": "16286546-fbe8-45d6-9cf1-8e64efb393a3",
   "metadata": {},
   "outputs": [
    {
     "name": "stdout",
     "output_type": "stream",
     "text": [
      "125\n"
     ]
    }
   ],
   "source": [
    "print(int(a))"
   ]
  },
  {
   "cell_type": "code",
   "execution_count": 48,
   "id": "489dc473-fc6d-4691-95d6-d6353f740974",
   "metadata": {},
   "outputs": [
    {
     "name": "stdout",
     "output_type": "stream",
     "text": [
      "97\n"
     ]
    }
   ],
   "source": [
    "print(ord('a'))"
   ]
  },
  {
   "cell_type": "code",
   "execution_count": 51,
   "id": "ceeb682d-b79f-48e2-8a0a-1d3ad5d3cb61",
   "metadata": {},
   "outputs": [
    {
     "name": "stdout",
     "output_type": "stream",
     "text": [
      "True\n"
     ]
    }
   ],
   "source": [
    "print(ord(\"a\") == 97)"
   ]
  },
  {
   "cell_type": "code",
   "execution_count": 52,
   "id": "5cb5c948-ff19-4514-93d5-c4fa654e78a5",
   "metadata": {},
   "outputs": [
    {
     "name": "stdout",
     "output_type": "stream",
     "text": [
      "False\n"
     ]
    }
   ],
   "source": [
    "print(not 12 ==12)"
   ]
  },
  {
   "cell_type": "code",
   "execution_count": 54,
   "id": "08615f1c-bef8-4aba-a4cb-58aee27a86ab",
   "metadata": {},
   "outputs": [
    {
     "name": "stdout",
     "output_type": "stream",
     "text": [
      "False\n"
     ]
    }
   ],
   "source": [
    "print(True and False)"
   ]
  },
  {
   "cell_type": "code",
   "execution_count": 58,
   "id": "2352e86e-728b-418b-a0cf-5eac8eaa92d4",
   "metadata": {},
   "outputs": [
    {
     "name": "stdin",
     "output_type": "stream",
     "text": [
      "Enter a :  95\n",
      "Enter b :  66\n"
     ]
    },
    {
     "name": "stdout",
     "output_type": "stream",
     "text": [
      "95 is greater\n"
     ]
    }
   ],
   "source": [
    "a = int(input(\"Enter a : \"))\n",
    "b = int(input(\"Enter b : \"))\n",
    "if a>b:\n",
    "    print(f\"{a} is greater\")\n",
    "else:\n",
    "    print(f\"{b} is greater\")"
   ]
  },
  {
   "cell_type": "code",
   "execution_count": 61,
   "id": "2d1a2f90-3525-41e1-9fb2-ff09ecd05817",
   "metadata": {},
   "outputs": [
    {
     "name": "stdin",
     "output_type": "stream",
     "text": [
      "number : 3\n"
     ]
    }
   ],
   "source": [
    "a = int(input(\"number :\"))"
   ]
  },
  {
   "cell_type": "code",
   "execution_count": 63,
   "id": "25e72f9e-86a6-450f-b70d-d17d10d8b341",
   "metadata": {},
   "outputs": [
    {
     "name": "stdin",
     "output_type": "stream",
     "text": [
      "enter you gender :  t\n"
     ]
    },
    {
     "name": "stdout",
     "output_type": "stream",
     "text": [
      "hello trans\n"
     ]
    }
   ],
   "source": [
    "gender = str(input(\"enter you gender : \"))\n",
    "if gender == \"m\":\n",
    "    print(\"hello, sir\")\n",
    "elif gender == \"f\":\n",
    "    print(\"hello mam\")\n",
    "else:\n",
    "    print(\"hello trans\")"
   ]
  },
  {
   "cell_type": "code",
   "execution_count": 64,
   "id": "8a78961a-c5ce-4277-b41c-8167bf74a585",
   "metadata": {},
   "outputs": [
    {
     "name": "stdin",
     "output_type": "stream",
     "text": [
      "enter your name :  ayan\n",
      "enter your age :  18\n"
     ]
    },
    {
     "name": "stdout",
     "output_type": "stream",
     "text": [
      "ayan is eligible for voter id\n"
     ]
    }
   ],
   "source": [
    "name = str(input(\"enter your name : \"))\n",
    "age = int(input(\"enter your age : \"))\n",
    "if age>=18:\n",
    "    print(f\"{name} is eligible for voter id\")\n",
    "else:\n",
    "    print(f\"{name} is not eligible\")"
   ]
  },
  {
   "cell_type": "code",
   "execution_count": 67,
   "id": "16f07de6-1e2f-4173-acc0-ea8a913dfe54",
   "metadata": {},
   "outputs": [
    {
     "name": "stdin",
     "output_type": "stream",
     "text": [
      "enter number 959\n"
     ]
    },
    {
     "name": "stdout",
     "output_type": "stream",
     "text": [
      "greater than 10\n"
     ]
    }
   ],
   "source": [
    "num = int(input(\"enter number\"))\n",
    "if num>10:\n",
    "    print(\"greater than 10\")\n",
    "else:\n",
    "    print(\"not greater than 10\")"
   ]
  },
  {
   "cell_type": "code",
   "execution_count": 68,
   "id": "8d7254bc-cd61-4ccb-973d-80477b8fc712",
   "metadata": {},
   "outputs": [
    {
     "name": "stdout",
     "output_type": "stream",
     "text": [
      "1\n",
      "2\n",
      "3\n"
     ]
    }
   ],
   "source": [
    "for i in range(1,4):\n",
    "    print(i )"
   ]
  },
  {
   "cell_type": "code",
   "execution_count": 69,
   "id": "85bc9374-7ddb-4798-83eb-869b5cdb6972",
   "metadata": {},
   "outputs": [
    {
     "name": "stdout",
     "output_type": "stream",
     "text": [
      "S\n",
      "o\n",
      "u\n",
      "r\n",
      "i\n",
      "s\n",
      "h\n"
     ]
    }
   ],
   "source": [
    "A = \"Sourish Anal\"\n",
    "for i in range(0, 7):\n",
    "    print(A[i])"
   ]
  },
  {
   "cell_type": "code",
   "execution_count": 70,
   "id": "c2552403-fdbf-4af0-b000-49e3a4ad9e1b",
   "metadata": {},
   "outputs": [
    {
     "name": "stdout",
     "output_type": "stream",
     "text": [
      "S\n",
      "o\n",
      "u\n",
      "r\n",
      "i\n",
      "s\n",
      "h\n",
      " \n",
      "A\n",
      "n\n",
      "a\n",
      "l\n"
     ]
    }
   ],
   "source": [
    "for i in range(len(A)):\n",
    "    print(A[i])"
   ]
  },
  {
   "cell_type": "code",
   "execution_count": 72,
   "id": "5c9064ea-5713-41b6-bc85-fcfd1926f38f",
   "metadata": {},
   "outputs": [
    {
     "name": "stdout",
     "output_type": "stream",
     "text": [
      "S\n",
      "o\n",
      "u\n",
      "r\n",
      "i\n",
      "s\n",
      "h\n",
      " \n",
      "A\n",
      "n\n",
      "a\n",
      "l\n"
     ]
    }
   ],
   "source": [
    "for i in A:\n",
    "    print(i)"
   ]
  },
  {
   "cell_type": "code",
   "execution_count": 74,
   "id": "98f82cb5-3925-4cb2-9c0a-72d960887b65",
   "metadata": {},
   "outputs": [
    {
     "name": "stdout",
     "output_type": "stream",
     "text": [
      "0\n",
      "1\n",
      "2\n"
     ]
    }
   ],
   "source": [
    "i = 0\n",
    "j = 3\n",
    "while j>i:\n",
    "    print(i)\n",
    "    i+=1"
   ]
  },
  {
   "cell_type": "code",
   "execution_count": 76,
   "id": "49bfa29c-9125-4759-859c-b0e033e1136b",
   "metadata": {},
   "outputs": [
    {
     "name": "stdout",
     "output_type": "stream",
     "text": [
      "welcome ayan, good morning\n"
     ]
    }
   ],
   "source": [
    "def greet(name):\n",
    "    print(f\"welcome {name}, good morning\")\n",
    "\n",
    "greet(\"ayan\")"
   ]
  },
  {
   "cell_type": "code",
   "execution_count": 2,
   "id": "9416993b-0c8e-478f-b250-1cc65e3cf9fc",
   "metadata": {},
   "outputs": [
    {
     "name": "stdout",
     "output_type": "stream",
     "text": [
      "5\n"
     ]
    }
   ],
   "source": [
    "def sum(a, b):\n",
    "    return a+b;\n",
    "print(sum(1,4))"
   ]
  },
  {
   "cell_type": "code",
   "execution_count": 8,
   "id": "1c1edeed-a354-4391-9243-26d05a943447",
   "metadata": {},
   "outputs": [
    {
     "ename": "SyntaxError",
     "evalue": "invalid syntax (3120484020.py, line 1)",
     "output_type": "error",
     "traceback": [
      "  \u001b[36mCell\u001b[39m\u001b[36m \u001b[39m\u001b[32mIn[8]\u001b[39m\u001b[32m, line 1\u001b[39m\n\u001b[31m    \u001b[39m\u001b[31mdef swap(&a,&b):\u001b[39m\n             ^\n\u001b[31mSyntaxError\u001b[39m\u001b[31m:\u001b[39m invalid syntax\n"
     ]
    }
   ],
   "source": []
  },
  {
   "cell_type": "code",
   "execution_count": 12,
   "id": "6df11e07-7c88-4a8c-8c10-45b8fea0cbe4",
   "metadata": {},
   "outputs": [
    {
     "name": "stdout",
     "output_type": "stream",
     "text": [
      "apple\n",
      "banana\n",
      "watermelon\n",
      "pumpkin\n"
     ]
    }
   ],
   "source": [
    "fruits = [\"apple\", \"banana\", \"watermelon\", \"pumpkin\"]\n",
    "for i in range(0,4):\n",
    "    print(fruits[i])"
   ]
  },
  {
   "cell_type": "code",
   "execution_count": 13,
   "id": "5ab939ce-85ce-47f1-8865-0c863726749b",
   "metadata": {},
   "outputs": [
    {
     "name": "stdout",
     "output_type": "stream",
     "text": [
      "apple\n",
      "banana\n",
      "watermelon\n",
      "pumpkin\n",
      "oranges\n"
     ]
    }
   ],
   "source": [
    "fruits.append(\"oranges\")\n",
    "for i in fruits:\n",
    "    print(i)"
   ]
  },
  {
   "cell_type": "code",
   "execution_count": 15,
   "id": "b418c691-7f4e-4b1d-b901-2406cbe397b8",
   "metadata": {},
   "outputs": [
    {
     "name": "stdout",
     "output_type": "stream",
     "text": [
      "apple\n",
      "watermelon\n",
      "pumpkin\n",
      "banana\n",
      "oranges\n"
     ]
    }
   ],
   "source": [
    "fruits.remove(\"banana\")\n",
    "fruits.insert(3, \"banana\")\n",
    "for i in fruits:\n",
    "    print(i)"
   ]
  },
  {
   "cell_type": "code",
   "execution_count": 18,
   "id": "fd35aa13-608e-42d2-8d0c-0d496a9d3c9c",
   "metadata": {},
   "outputs": [
    {
     "name": "stdout",
     "output_type": "stream",
     "text": [
      "apple\n",
      "watermelon\n",
      "banana\n",
      "oranges\n",
      "mango\n",
      "amla\n",
      "mango\n",
      "amla\n",
      "pumpkin\n"
     ]
    }
   ],
   "source": [
    "fruits.remove(\"pumpkin\")\n",
    "fruits.extend([\"mango\",\"amla\", \"pumpkin\"])\n",
    "for i in fruits:\n",
    "    print(i)"
   ]
  },
  {
   "cell_type": "code",
   "execution_count": 19,
   "id": "c10afa8e-d38c-4d5b-afdb-b113f9c4d4c3",
   "metadata": {},
   "outputs": [
    {
     "name": "stdout",
     "output_type": "stream",
     "text": [
      "amla\n"
     ]
    }
   ],
   "source": [
    "print(fruits[5])"
   ]
  },
  {
   "cell_type": "code",
   "execution_count": 20,
   "id": "9ecbf141-c9c7-4b45-9fa3-275049cb2808",
   "metadata": {},
   "outputs": [
    {
     "name": "stdout",
     "output_type": "stream",
     "text": [
      "apple\n"
     ]
    }
   ],
   "source": [
    "A = fruits.pop(0)\n",
    "print(A)"
   ]
  },
  {
   "cell_type": "code",
   "execution_count": 21,
   "id": "e986aaf6-d818-4afc-a04d-c6b59da6841d",
   "metadata": {},
   "outputs": [
    {
     "name": "stdout",
     "output_type": "stream",
     "text": [
      "watermelon\n"
     ]
    }
   ],
   "source": [
    "print(fruits[0])"
   ]
  },
  {
   "cell_type": "code",
   "execution_count": 26,
   "id": "d7e879f5-ef9b-474a-830d-fc7e30af33d5",
   "metadata": {},
   "outputs": [
    {
     "name": "stdout",
     "output_type": "stream",
     "text": [
      "4\n"
     ]
    }
   ],
   "source": [
    "index = fruits.index(\"amla\")\n",
    "print(index)"
   ]
  },
  {
   "cell_type": "code",
   "execution_count": 27,
   "id": "592876dd-b7ee-47b1-b7bd-1abc7d4aa936",
   "metadata": {},
   "outputs": [
    {
     "name": "stdout",
     "output_type": "stream",
     "text": [
      "amla\n",
      "amla\n",
      "banana\n",
      "mango\n",
      "mango\n",
      "oranges\n",
      "pumpkin\n",
      "watermelon\n"
     ]
    }
   ],
   "source": [
    "fruits.sort()\n",
    "for i in fruits:\n",
    "    print(i)"
   ]
  },
  {
   "cell_type": "code",
   "execution_count": 28,
   "id": "ab5a541e-807c-4d31-8d01-0d3997d7e714",
   "metadata": {},
   "outputs": [
    {
     "name": "stdout",
     "output_type": "stream",
     "text": [
      "('ayan', 33, 'not a name')\n"
     ]
    }
   ],
   "source": [
    "tuple = (\"ayan\", 33, \"not a name\")\n",
    "print(tuple)"
   ]
  },
  {
   "cell_type": "code",
   "execution_count": 29,
   "id": "9d8dc096-3ee5-46cb-b7e2-90bf77201988",
   "metadata": {},
   "outputs": [
    {
     "name": "stdout",
     "output_type": "stream",
     "text": [
      "{1, 2, 3, 4, 5} {3} {1, 2} {1, 2, 4, 5}\n"
     ]
    }
   ],
   "source": [
    "A = {1,2,3}\n",
    "B = {3,4,5}\n",
    "Union = A.union(B)\n",
    "Intersection = A.intersection(B)\n",
    "Difference = A.difference(B)\n",
    "SymmetricDifference = A.symmetric_difference(B)\n",
    "print(Union, Intersection, Difference, SymmetricDifference)"
   ]
  },
  {
   "cell_type": "code",
   "execution_count": 30,
   "id": "e9fa7221-81d2-4fd9-8667-1d480efd4124",
   "metadata": {},
   "outputs": [
    {
     "name": "stdout",
     "output_type": "stream",
     "text": [
      "Ayan\n"
     ]
    }
   ],
   "source": [
    "D = {\"name\" : \"Ayan\", \"age\" : 18}\n",
    "print(D[\"name\"])"
   ]
  },
  {
   "cell_type": "code",
   "execution_count": 35,
   "id": "8a827506-fbbf-45f8-a511-08eaa950f30e",
   "metadata": {},
   "outputs": [
    {
     "name": "stdout",
     "output_type": "stream",
     "text": [
      "69\n"
     ]
    }
   ],
   "source": [
    "x = {1:34, 2:36, 3:99, 4:69}\n",
    "print(x[4])"
   ]
  },
  {
   "cell_type": "code",
   "execution_count": 37,
   "id": "9864c8b8-3f11-4b98-9e43-b1d1c641f5f4",
   "metadata": {},
   "outputs": [
    {
     "name": "stdout",
     "output_type": "stream",
     "text": [
      "1 : 34\n",
      "2 : 36\n",
      "3 : 99\n",
      "4 : 69\n"
     ]
    }
   ],
   "source": [
    "for i in x:\n",
    "    print(i,\":\",x[i])"
   ]
  },
  {
   "cell_type": "code",
   "execution_count": 38,
   "id": "de46ec8f-a4a4-4299-b685-76a335d5ba53",
   "metadata": {},
   "outputs": [
    {
     "name": "stdout",
     "output_type": "stream",
     "text": [
      "1\n",
      "2\n",
      "3\n",
      "4\n"
     ]
    }
   ],
   "source": [
    "for i in x:\n",
    "    print(i)"
   ]
  },
  {
   "cell_type": "code",
   "execution_count": 39,
   "id": "d3325cfb-574d-448d-97fc-0b6e246bd917",
   "metadata": {},
   "outputs": [
    {
     "name": "stdout",
     "output_type": "stream",
     "text": [
      "End\n"
     ]
    }
   ],
   "source": [
    "print(\"End\")"
   ]
  },
  {
   "cell_type": "code",
   "execution_count": 1,
   "id": "4dee428d-cfa7-416d-be39-db78b4dacbd8",
   "metadata": {},
   "outputs": [
    {
     "name": "stdout",
     "output_type": "stream",
     "text": [
      "6\n"
     ]
    }
   ],
   "source": [
    "a = 3; b =3 ; print(a+b)"
   ]
  },
  {
   "cell_type": "code",
   "execution_count": 7,
   "id": "a94de070-c0e5-4c77-8600-d942a388218b",
   "metadata": {},
   "outputs": [
    {
     "name": "stdout",
     "output_type": "stream",
     "text": [
      "0\n",
      "1\n",
      "2\n",
      "3\n",
      "4\n",
      "5\n",
      "6\n",
      "7\n",
      "8\n",
      "9\n"
     ]
    }
   ],
   "source": [
    "for i in range(10):\n",
    "    print(i)"
   ]
  },
  {
   "cell_type": "code",
   "execution_count": 8,
   "id": "0b0becb7-863c-404a-845e-3719b0d0e8d2",
   "metadata": {},
   "outputs": [
    {
     "data": {
      "text/plain": [
       "range(0, 8)"
      ]
     },
     "execution_count": 8,
     "metadata": {},
     "output_type": "execute_result"
    }
   ],
   "source": [
    "range(0, 8)"
   ]
  },
  {
   "cell_type": "code",
   "execution_count": 9,
   "id": "9551de1c-eb3f-4d62-8374-3aa0d01a2d74",
   "metadata": {},
   "outputs": [
    {
     "data": {
      "text/plain": [
       "[0, 1, 2, 3, 4, 5, 6, 7, 8]"
      ]
     },
     "execution_count": 9,
     "metadata": {},
     "output_type": "execute_result"
    }
   ],
   "source": [
    "list(range(9))"
   ]
  },
  {
   "cell_type": "code",
   "execution_count": 2,
   "id": "fe07dda6-b4eb-4948-af8c-d2d74a06cae1",
   "metadata": {},
   "outputs": [
    {
     "name": "stdout",
     "output_type": "stream",
     "text": [
      "sum :  6\n"
     ]
    }
   ],
   "source": [
    "a = 3;b = 3\n",
    "print(\"sum : \", a+b)"
   ]
  },
  {
   "cell_type": "code",
   "execution_count": 3,
   "id": "541d6e6d-e5c9-469f-9584-9851adde0300",
   "metadata": {},
   "outputs": [
    {
     "name": "stdout",
     "output_type": "stream",
     "text": [
      "(4, 3)\n"
     ]
    }
   ],
   "source": [
    "def swap(a, b):\n",
    "    return b,a\n",
    "\n",
    "x=3; y=4\n",
    "print(swap(x,y))"
   ]
  },
  {
   "cell_type": "code",
   "execution_count": 4,
   "id": "fd0bbd2d-9745-4bad-ba9f-0cfea9d013ad",
   "metadata": {},
   "outputs": [
    {
     "name": "stdout",
     "output_type": "stream",
     "text": [
      "3\n"
     ]
    }
   ],
   "source": [
    "print(x)"
   ]
  },
  {
   "cell_type": "code",
   "execution_count": null,
   "id": "6b179beb-f1f7-451b-8b05-e34d9f0b5e3f",
   "metadata": {},
   "outputs": [],
   "source": []
  }
 ],
 "metadata": {
  "kernelspec": {
   "display_name": "Python 3 (ipykernel)",
   "language": "python",
   "name": "python3"
  },
  "language_info": {
   "codemirror_mode": {
    "name": "ipython",
    "version": 3
   },
   "file_extension": ".py",
   "mimetype": "text/x-python",
   "name": "python",
   "nbconvert_exporter": "python",
   "pygments_lexer": "ipython3",
   "version": "3.13.5"
  }
 },
 "nbformat": 4,
 "nbformat_minor": 5
}
